{
 "cells": [
  {
   "cell_type": "markdown",
   "metadata": {},
   "source": [
    "![](ITD.png)\n",
    "    \n",
    "# Analisis de Datos Masivos\n",
    "## Datos SQLite\n",
    "\n",
    "## Nombre del Docente\n",
    "## Jose Gabriel Rodriguez Rivas\n",
    "\n",
    "## Nombre del Alumno\n",
    "## Jose Guadalupe Calderon Perez"
   ]
  },
  {
   "cell_type": "code",
   "execution_count": 4,
   "metadata": {},
   "outputs": [],
   "source": [
    "import sqlite3\n",
    "import pandas as pd\n",
    "from matplotlib import pyplot as plt\n",
    "%matplotlib inline"
   ]
  },
  {
   "cell_type": "code",
   "execution_count": 7,
   "metadata": {},
   "outputs": [
    {
     "data": {
      "text/plain": [
       "<sqlite3.Connection at 0x29df92efe30>"
      ]
     },
     "execution_count": 7,
     "metadata": {},
     "output_type": "execute_result"
    }
   ],
   "source": [
    "sqlite3.connect('C:/Users/JoseC/Python/Unidad 2/phonebook.db')"
   ]
  },
  {
   "cell_type": "code",
   "execution_count": 9,
   "metadata": {},
   "outputs": [],
   "source": [
    "conn = sqlite3.connect('C:/Users/JoseC/Python/Unidad 2/phonebook.db')"
   ]
  },
  {
   "cell_type": "code",
   "execution_count": 26,
   "metadata": {},
   "outputs": [
    {
     "data": {
      "text/plain": [
       "<sqlite3.Cursor at 0x29df9451f80>"
      ]
     },
     "execution_count": 26,
     "metadata": {},
     "output_type": "execute_result"
    }
   ],
   "source": [
    "conn.cursor()"
   ]
  },
  {
   "cell_type": "code",
   "execution_count": 27,
   "metadata": {},
   "outputs": [],
   "source": [
    "cur = conn.cursor()"
   ]
  },
  {
   "cell_type": "code",
   "execution_count": 30,
   "metadata": {},
   "outputs": [
    {
     "data": {
      "text/plain": [
       "<sqlite3.Cursor at 0x29df9451e30>"
      ]
     },
     "execution_count": 30,
     "metadata": {},
     "output_type": "execute_result"
    }
   ],
   "source": [
    "consulta = \"SELECT * FROM coworkers;\"\n",
    "cur.execute(consulta)"
   ]
  },
  {
   "cell_type": "code",
   "execution_count": 31,
   "metadata": {},
   "outputs": [
    {
     "name": "stdout",
     "output_type": "stream",
     "text": [
      "(101, 'Han Solo', 'Bounty Hunter', 5556667578)\n",
      "(101, 'Han Solo', 'Bounty Hunter', 5556667578)\n",
      "(102, 'Leia Skywalker', 'Princess', 5556542398)\n",
      "(103, 'Luke Skywalker', 'Jedi', 5558963267)\n",
      "(104, 'Obi-Wan Kenobi', 'Jedi', 5558963276)\n",
      "(105, 'Anakin Skywalker', 'Sith Lord', 5553477621)\n",
      "(106, 'Jabba The Hutt', 'Gangster', 5556613456)\n",
      "(107, 'Greedo', 'Debt Collector', 5552360918)\n",
      "(108, 'R2D2', 'Astro Droid', 5555210125)\n",
      "(109, 'C3PO', 'Protocol Droid', 5556633345)\n"
     ]
    }
   ],
   "source": [
    "for row in cur:\n",
    "    print (row)"
   ]
  },
  {
   "cell_type": "code",
   "execution_count": 35,
   "metadata": {},
   "outputs": [
    {
     "name": "stdout",
     "output_type": "stream",
     "text": [
      "('Leia Skywalker',)\n"
     ]
    }
   ],
   "source": [
    "#Consultar todas las princesas\n",
    "consulta = \"SELECT name FROM coworkers WHERE title = 'Princess';\"\n",
    "cur.execute(consulta)\n",
    "for row in cur:\n",
    "    print (row)"
   ]
  },
  {
   "cell_type": "code",
   "execution_count": 37,
   "metadata": {},
   "outputs": [
    {
     "name": "stdout",
     "output_type": "stream",
     "text": [
      "('Leia Skywalker',)\n",
      "('Greedo',)\n"
     ]
    }
   ],
   "source": [
    "#Nombre de todas las princesas y recaudadores\n",
    "consulta = \"SELECT name FROM coworkers WHERE title = 'Princess' OR title = 'Debt Collector';\"\n",
    "cur.execute(consulta)\n",
    "for row in cur:\n",
    "    print (row)"
   ]
  },
  {
   "cell_type": "code",
   "execution_count": 38,
   "metadata": {},
   "outputs": [
    {
     "name": "stdout",
     "output_type": "stream",
     "text": [
      "('Luke Skywalker', 5558963267)\n",
      "('Obi-Wan Kenobi', 5558963276)\n"
     ]
    }
   ],
   "source": [
    "#Nombres y numeros de todos los Jedi\n",
    "consulta = \"SELECT name, number FROM coworkers WHERE title = 'Jedi';\"\n",
    "cur.execute(consulta)\n",
    "for row in cur:\n",
    "    print (row)"
   ]
  },
  {
   "cell_type": "code",
   "execution_count": 40,
   "metadata": {},
   "outputs": [
    {
     "name": "stdout",
     "output_type": "stream",
     "text": [
      "('R2D2',)\n",
      "('C3PO',)\n"
     ]
    }
   ],
   "source": [
    "#Nombre de todos los droids\n",
    "consulta = \"SELECT name FROM coworkers WHERE title = 'Astro Droid' OR title = 'Protocol Droid';\"\n",
    "cur.execute(consulta)\n",
    "for row in cur:\n",
    "    print (row)"
   ]
  }
 ],
 "metadata": {
  "kernelspec": {
   "display_name": "Python 3",
   "language": "python",
   "name": "python3"
  },
  "language_info": {
   "codemirror_mode": {
    "name": "ipython",
    "version": 3
   },
   "file_extension": ".py",
   "mimetype": "text/x-python",
   "name": "python",
   "nbconvert_exporter": "python",
   "pygments_lexer": "ipython3",
   "version": "3.7.4"
  }
 },
 "nbformat": 4,
 "nbformat_minor": 2
}
